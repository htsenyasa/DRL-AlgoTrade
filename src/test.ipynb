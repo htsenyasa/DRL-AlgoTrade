{
 "cells": [
  {
   "cell_type": "code",
   "execution_count": 16,
   "metadata": {},
   "outputs": [],
   "source": [
    "import yfinance as yf\n",
    "import tf_TradingOperations as to\n",
    "import ai_TradingEnvironment as te\n",
    "import pandas as pd\n",
    "pd.options.mode.chained_assignment = None "
   ]
  },
  {
   "cell_type": "code",
   "execution_count": 17,
   "metadata": {},
   "outputs": [],
   "source": [
    "from collections import namedtuple\n",
    "Horizon = namedtuple(\"Horizon\", [\"start\", \"end\", \"interval\"])"
   ]
  },
  {
   "cell_type": "code",
   "execution_count": 18,
   "metadata": {},
   "outputs": [
    {
     "name": "stdout",
     "output_type": "stream",
     "text": [
      "[*********************100%***********************]  1 of 1 completed\n"
     ]
    }
   ],
   "source": [
    "isctrHorizon = Horizon(\"2020-01-01\", \"2022-01-01\", \"1d\")\n",
    "isctr = to.StockHandler(\"ISCTR.IS\", yf.download, yf.download, isctrHorizon)\n",
    "pos = to.DummyPosition(isctr)"
   ]
  },
  {
   "cell_type": "code",
   "execution_count": 19,
   "metadata": {},
   "outputs": [
    {
     "data": {
      "text/html": [
       "<div>\n",
       "<style scoped>\n",
       "    .dataframe tbody tr th:only-of-type {\n",
       "        vertical-align: middle;\n",
       "    }\n",
       "\n",
       "    .dataframe tbody tr th {\n",
       "        vertical-align: top;\n",
       "    }\n",
       "\n",
       "    .dataframe thead th {\n",
       "        text-align: right;\n",
       "    }\n",
       "</style>\n",
       "<table border=\"1\" class=\"dataframe\">\n",
       "  <thead>\n",
       "    <tr style=\"text-align: right;\">\n",
       "      <th></th>\n",
       "      <th>Open</th>\n",
       "      <th>High</th>\n",
       "      <th>Low</th>\n",
       "      <th>Close</th>\n",
       "      <th>Adj Close</th>\n",
       "      <th>Volume</th>\n",
       "      <th>Cash</th>\n",
       "      <th>Position</th>\n",
       "      <th>Action</th>\n",
       "      <th>Lots</th>\n",
       "      <th>Holdings</th>\n",
       "      <th>Value</th>\n",
       "      <th>Returns</th>\n",
       "    </tr>\n",
       "    <tr>\n",
       "      <th>Date</th>\n",
       "      <th></th>\n",
       "      <th></th>\n",
       "      <th></th>\n",
       "      <th></th>\n",
       "      <th></th>\n",
       "      <th></th>\n",
       "      <th></th>\n",
       "      <th></th>\n",
       "      <th></th>\n",
       "      <th></th>\n",
       "      <th></th>\n",
       "      <th></th>\n",
       "      <th></th>\n",
       "    </tr>\n",
       "  </thead>\n",
       "  <tbody>\n",
       "    <tr>\n",
       "      <th>2019-12-31</th>\n",
       "      <td>2.898058</td>\n",
       "      <td>2.956560</td>\n",
       "      <td>2.875558</td>\n",
       "      <td>2.884558</td>\n",
       "      <td>2.701027</td>\n",
       "      <td>68488287.0</td>\n",
       "      <td>100000.0</td>\n",
       "      <td>0</td>\n",
       "      <td>0</td>\n",
       "      <td>0</td>\n",
       "      <td>0</td>\n",
       "      <td>100000.0</td>\n",
       "      <td>0</td>\n",
       "    </tr>\n",
       "    <tr>\n",
       "      <th>2020-01-02</th>\n",
       "      <td>2.898058</td>\n",
       "      <td>2.934059</td>\n",
       "      <td>2.893558</td>\n",
       "      <td>2.934059</td>\n",
       "      <td>2.747378</td>\n",
       "      <td>43449342.0</td>\n",
       "      <td>100000.0</td>\n",
       "      <td>0</td>\n",
       "      <td>0</td>\n",
       "      <td>0</td>\n",
       "      <td>0</td>\n",
       "      <td>100000.0</td>\n",
       "      <td>0</td>\n",
       "    </tr>\n",
       "    <tr>\n",
       "      <th>2020-01-03</th>\n",
       "      <td>2.898058</td>\n",
       "      <td>2.925059</td>\n",
       "      <td>2.817057</td>\n",
       "      <td>2.839557</td>\n",
       "      <td>2.658889</td>\n",
       "      <td>64692226.0</td>\n",
       "      <td>100000.0</td>\n",
       "      <td>0</td>\n",
       "      <td>0</td>\n",
       "      <td>0</td>\n",
       "      <td>0</td>\n",
       "      <td>100000.0</td>\n",
       "      <td>0</td>\n",
       "    </tr>\n",
       "    <tr>\n",
       "      <th>2020-01-06</th>\n",
       "      <td>2.790056</td>\n",
       "      <td>2.817057</td>\n",
       "      <td>2.749555</td>\n",
       "      <td>2.767556</td>\n",
       "      <td>2.591469</td>\n",
       "      <td>39217085.0</td>\n",
       "      <td>100000.0</td>\n",
       "      <td>0</td>\n",
       "      <td>0</td>\n",
       "      <td>0</td>\n",
       "      <td>0</td>\n",
       "      <td>100000.0</td>\n",
       "      <td>0</td>\n",
       "    </tr>\n",
       "    <tr>\n",
       "      <th>2020-01-07</th>\n",
       "      <td>2.803556</td>\n",
       "      <td>2.821557</td>\n",
       "      <td>2.763056</td>\n",
       "      <td>2.776556</td>\n",
       "      <td>2.599896</td>\n",
       "      <td>42636674.0</td>\n",
       "      <td>100000.0</td>\n",
       "      <td>0</td>\n",
       "      <td>0</td>\n",
       "      <td>0</td>\n",
       "      <td>0</td>\n",
       "      <td>100000.0</td>\n",
       "      <td>0</td>\n",
       "    </tr>\n",
       "  </tbody>\n",
       "</table>\n",
       "</div>"
      ],
      "text/plain": [
       "                Open      High       Low     Close  Adj Close      Volume  \\\n",
       "Date                                                                        \n",
       "2019-12-31  2.898058  2.956560  2.875558  2.884558   2.701027  68488287.0   \n",
       "2020-01-02  2.898058  2.934059  2.893558  2.934059   2.747378  43449342.0   \n",
       "2020-01-03  2.898058  2.925059  2.817057  2.839557   2.658889  64692226.0   \n",
       "2020-01-06  2.790056  2.817057  2.749555  2.767556   2.591469  39217085.0   \n",
       "2020-01-07  2.803556  2.821557  2.763056  2.776556   2.599896  42636674.0   \n",
       "\n",
       "                Cash  Position  Action  Lots  Holdings     Value  Returns  \n",
       "Date                                                                       \n",
       "2019-12-31  100000.0         0       0     0         0  100000.0        0  \n",
       "2020-01-02  100000.0         0       0     0         0  100000.0        0  \n",
       "2020-01-03  100000.0         0       0     0         0  100000.0        0  \n",
       "2020-01-06  100000.0         0       0     0         0  100000.0        0  \n",
       "2020-01-07  100000.0         0       0     0         0  100000.0        0  "
      ]
     },
     "execution_count": 19,
     "metadata": {},
     "output_type": "execute_result"
    }
   ],
   "source": [
    "pos.dataFrame.head()"
   ]
  },
  {
   "cell_type": "code",
   "execution_count": 20,
   "metadata": {},
   "outputs": [
    {
     "name": "stdout",
     "output_type": "stream",
     "text": [
      "                Open      High       Low     Close  Adj Close      Volume  \\\n",
      "Date                                                                        \n",
      "2019-12-31  2.898058  2.956560  2.875558  2.884558   2.701027  68488287.0   \n",
      "2020-01-02  2.898058  2.934059  2.893558  2.934059   2.747378  43449342.0   \n",
      "2020-01-03  2.898058  2.925059  2.817057  2.839557   2.658889  64692226.0   \n",
      "2020-01-06  2.790056  2.817057  2.749555  2.767556   2.591469  39217085.0   \n",
      "2020-01-07  2.803556  2.821557  2.763056  2.776556   2.599896  42636674.0   \n",
      "\n",
      "                     Cash  Position  Action   Lots     Holdings     Value  \\\n",
      "Date                                                                        \n",
      "2019-12-31  100000.000000         0       0      0      0.00000  100000.0   \n",
      "2020-01-02  100000.000000         0       0      0      0.00000  100000.0   \n",
      "2020-01-03       0.686497         1       1  34526  98038.54265  100000.0   \n",
      "2020-01-06  100000.000000         0       0      0      0.00000  100000.0   \n",
      "2020-01-07  100000.000000         0       0      0      0.00000  100000.0   \n",
      "\n",
      "            Returns  \n",
      "Date                 \n",
      "2019-12-31        0  \n",
      "2020-01-02        0  \n",
      "2020-01-03        0  \n",
      "2020-01-06        0  \n",
      "2020-01-07        0  \n"
     ]
    }
   ],
   "source": [
    "pos.GoLong(2)\n",
    "print(pos.dataFrame.head())"
   ]
  },
  {
   "cell_type": "code",
   "execution_count": 21,
   "metadata": {},
   "outputs": [
    {
     "name": "stdout",
     "output_type": "stream",
     "text": [
      "\n",
      "\n",
      "************ Date\n",
      "2019-12-31        0.000000\n",
      "2020-01-02        0.000000\n",
      "2020-01-03    98038.542650\n",
      "2020-01-06   -91805.366042\n",
      "2020-01-07        0.000000\n",
      "                  ...     \n",
      "2021-12-27        0.000000\n",
      "2021-12-28        0.000000\n",
      "2021-12-29        0.000000\n",
      "2021-12-30        0.000000\n",
      "2021-12-31        0.000000\n",
      "Name: Holdings, Length: 502, dtype: float64 ***********\n",
      "\n",
      "\n",
      "                Open      High       Low     Close  Adj Close      Volume  \\\n",
      "Date                                                                        \n",
      "2019-12-31  2.898058  2.956560  2.875558  2.884558   2.701027  68488287.0   \n",
      "2020-01-02  2.898058  2.934059  2.893558  2.934059   2.747378  43449342.0   \n",
      "2020-01-03  2.898058  2.925059  2.817057  2.839557   2.658889  64692226.0   \n",
      "2020-01-06  2.790056  2.817057  2.749555  2.767556   2.591469  39217085.0   \n",
      "2020-01-07  2.803556  2.821557  2.763056  2.776556   2.599896  42636674.0   \n",
      "\n",
      "                     Cash  Position  Action   Lots      Holdings     Value  \\\n",
      "Date                                                                         \n",
      "2019-12-31  100000.000000         0      -1      0      0.000000  100000.0   \n",
      "2020-01-02  100000.000000         0      -1      0      0.000000  100000.0   \n",
      "2020-01-03       0.686497         1      -1  34526  98038.542650  100000.0   \n",
      "2020-01-06  187283.743925        -1      -1  33172 -91805.366042  100000.0   \n",
      "2020-01-07  100000.000000         0      -1      0      0.000000  100000.0   \n",
      "\n",
      "            Returns  \n",
      "Date                 \n",
      "2019-12-31        0  \n",
      "2020-01-02        0  \n",
      "2020-01-03        0  \n",
      "2020-01-06        0  \n",
      "2020-01-07        0  \n"
     ]
    }
   ],
   "source": [
    "pos.GoShort(3)\n",
    "print(pos.dataFrame.head())"
   ]
  },
  {
   "cell_type": "code",
   "execution_count": null,
   "metadata": {},
   "outputs": [],
   "source": []
  }
 ],
 "metadata": {
  "kernelspec": {
   "display_name": "Python 3.10.8 ('DeepLearningLecture')",
   "language": "python",
   "name": "python3"
  },
  "language_info": {
   "codemirror_mode": {
    "name": "ipython",
    "version": 3
   },
   "file_extension": ".py",
   "mimetype": "text/x-python",
   "name": "python",
   "nbconvert_exporter": "python",
   "pygments_lexer": "ipython3",
   "version": "3.10.8"
  },
  "orig_nbformat": 4,
  "vscode": {
   "interpreter": {
    "hash": "9270cc65fdc4725f6adaa1f7767b0a6caf526e2ce548860beafade8a51b1bf9f"
   }
  }
 },
 "nbformat": 4,
 "nbformat_minor": 2
}
